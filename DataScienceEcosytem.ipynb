{
 "cells": [
  {
   "cell_type": "markdown",
   "id": "7f95dd65-2938-408f-9b21-55bf594083b7",
   "metadata": {},
   "source": [
    "<h1> Data Science Tools and Ecosystem </h1>"
   ]
  },
  {
   "cell_type": "markdown",
   "id": "06eff3a5-08ff-4b72-aa94-3430243d05ca",
   "metadata": {},
   "source": [
    "<h4> In this notebook, Data Science Tools and Ecosystem are sumarized </h4>"
   ]
  },
  {
   "cell_type": "markdown",
   "id": "48979aff-f714-4392-9300-78915f7f93c1",
   "metadata": {},
   "source": [
    "<b> Some of the popular languages that Data Scientists use are: </b>\n",
    "1. Python\n",
    "2. SQL\n",
    "3. R\n",
    "4. Java\n",
    "5. Scala\n",
    "6. C++"
   ]
  },
  {
   "cell_type": "markdown",
   "id": "8b28688a-7fb6-496a-a28c-bef1877f35b6",
   "metadata": {},
   "source": [
    "<b>Some of the commonly used libraries used by Data Science include: </b>\n",
    "<ol>\n",
    "<li> Scikit-Learn </li>\n",
    "<li> Pandas </li>\n",
    "<li> NumPy </li>\n",
    "<li> Caret </li>\n",
    "<li> Tensorflow </li>\n",
    "<li> keras </li>\n",
    "</ol>"
   ]
  },
  {
   "cell_type": "markdown",
   "id": "de3c2d47-6f56-4075-826c-082d4542a01e",
   "metadata": {},
   "source": [
    "<h3> Open Spurce Data Science Tools </h3>\n",
    "<table style 20%>\n",
    "<tr>\n",
    "    <th>Data Science Tools</th>\n",
    "</tr>\n",
    "<tr>\n",
    "    <td>Jupyter Notebook</td>\n",
    "</tr>\n",
    "<tr>\n",
    "    <td>RStudio</td>\n",
    "</tr>\n",
    "<tr>\n",
    "    <td>Visual Studio Code</td>\n",
    "</tr>\n",
    "\n"
   ]
  },
  {
   "cell_type": "markdown",
   "id": "52cefd0a-12a5-4359-ac9c-b9d8663e9b30",
   "metadata": {},
   "source": [
    "<h3> Below are a few examples of evaluating arithmetic expressions in Python </h3>\n"
   ]
  },
  {
   "cell_type": "code",
   "execution_count": 1,
   "id": "a7c6e064-2259-4087-999a-f6399851ac3e",
   "metadata": {},
   "outputs": [
    {
     "name": "stdout",
     "output_type": "stream",
     "text": [
      "17\n"
     ]
    }
   ],
   "source": [
    "# This is a simple arithmetic expression to multiply then add integers\n",
    "print((3*4)+5)"
   ]
  },
  {
   "cell_type": "code",
   "execution_count": 2,
   "id": "904661f7-b06b-4f8d-bf2b-c290a23f835a",
   "metadata": {},
   "outputs": [
    {
     "name": "stdout",
     "output_type": "stream",
     "text": [
      "3.3333333333333335\n"
     ]
    }
   ],
   "source": [
    "# This will convert 200 minutes in hour by dividing by 60\n",
    "print(200/60)"
   ]
  },
  {
   "cell_type": "markdown",
   "id": "f514f9c8-bee5-43ed-af01-b4537222ab56",
   "metadata": {},
   "source": [
    "<h3>Objectives: </h3>\n",
    "<h4>Popular Languges for Data Science: </h4>\n",
    "<ul>\n",
    "    <li>Python</li>\n",
    "    <li>R</li>\n",
    "    <li>SQL</li>\n",
    "    <li>Julia</li>\n",
    "    <li>Java</li>\n",
    "</ul>"
   ]
  },
  {
   "cell_type": "markdown",
   "id": "07685563-09ed-4f5c-85d3-35dad50ca666",
   "metadata": {},
   "source": [
    "<h2> Author </h2>\n",
    "Marcela Jaimes Becerra"
   ]
  },
  {
   "cell_type": "code",
   "execution_count": null,
   "id": "99ae69d5-7328-405f-99fa-cd20a455c38f",
   "metadata": {},
   "outputs": [],
   "source": []
  }
 ],
 "metadata": {
  "kernelspec": {
   "display_name": "Python 3 (ipykernel)",
   "language": "python",
   "name": "python3"
  },
  "language_info": {
   "codemirror_mode": {
    "name": "ipython",
    "version": 3
   },
   "file_extension": ".py",
   "mimetype": "text/x-python",
   "name": "python",
   "nbconvert_exporter": "python",
   "pygments_lexer": "ipython3",
   "version": "3.10.5"
  }
 },
 "nbformat": 4,
 "nbformat_minor": 5
}
